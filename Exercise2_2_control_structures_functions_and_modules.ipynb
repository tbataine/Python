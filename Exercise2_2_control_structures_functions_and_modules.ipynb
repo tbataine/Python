{
 "cells": [
  {
   "cell_type": "markdown",
   "metadata": {},
   "source": [
    "<div style=\"display: flex; align-items: center;\">\n",
    "    <img src=\"../img/es_logo.png\" alt=\"title\" style=\"margin-right: 20px;\">\n",
    "    <h1>Control Structures, Functions and Modules</h1>\n",
    "</div>"
   ]
  },
  {
   "cell_type": "markdown",
   "metadata": {},
   "source": [
    "### Submission Instructions\n",
    "\n",
    "- Complete the excercises in the notebook below.\n",
    "- Once you have completed the notebook, you should submit the completed notebook and any additional files you created for the assignment by uploading them to your github profile and sharing the github link as the submission.\n",
    "- your github repostory should contain the required files as well as a README.md file that summarizes what you have learned in this module."
   ]
  },
  {
   "cell_type": "markdown",
   "metadata": {},
   "source": [
    "### Recommended Readings:\n",
    "- Control Structures in Python: [javatpoint](https://www.javatpoint.com/control-structures-in-python)\n",
    "- Functions in Python: [w3schools](https://www.w3schools.com/python/python_functions.asp)\n",
    "- Modules in Python: [docs](https://docs.python.org/3/tutorial/modules.html)\n",
    "- Modules in Python: [RealPython](https://realpython.com/python-modules-packages/)"
   ]
  },
  {
   "cell_type": "markdown",
   "metadata": {},
   "source": [
    "#### Excercise 1:\n",
    "Write a Python function that takes two integers as input, and then prints the sum, difference, and product of the two numbers."
   ]
  },
  {
   "cell_type": "code",
   "execution_count": 41,
   "metadata": {},
   "outputs": [
    {
     "name": "stdout",
     "output_type": "stream",
     "text": [
      "The addition result:  12\n",
      "The differnce result:  -6\n",
      "The multiplication result:  27\n"
     ]
    }
   ],
   "source": [
    "def calculate(int1: int, int2: int) -> int:\n",
    "    print(\"The addition result: \",int1+ int2)\n",
    "    print(\"The differnce result: \",int1 - int2)\n",
    "    print(\"The multiplication result: \",int1 * int2)\n",
    "calculate(3,9)"
   ]
  },
  {
   "cell_type": "markdown",
   "metadata": {},
   "source": [
    "#### Excercise 2:\n",
    "Write a program that prints the numbers from 1 to 50. For multiples of three, print \"Fizz\" instead of the number, and for multiples of five, print \"Buzz\". For numbers that are multiples of both three and five, print \"FizzBuzz\".\n",
    "\n",
    "The solution to this problem should be uploaded within a file fizzbuzz.py"
   ]
  },
  {
   "cell_type": "markdown",
   "metadata": {},
   "source": [
    "#### Excercise 3:\n",
    "Create a Python module, called \"factorial\", that contains two functions. The first function `factorial(n: int) -> int` should return the factorial of the number n. The second function `list_factorial([n1, n2, n3, ...]) -> List[int]` should return a list of factorials of the numbers in the input list."
   ]
  },
  {
   "cell_type": "markdown",
   "metadata": {},
   "source": []
  },
  {
   "cell_type": "code",
   "execution_count": 42,
   "metadata": {},
   "outputs": [
    {
     "name": "stdout",
     "output_type": "stream",
     "text": [
      "120\n",
      "[1, 2, 6, 24, 120]\n"
     ]
    }
   ],
   "source": [
    "import factorial\n",
    "\n",
    "print(factorial.factorial(5))\n",
    "\n",
    "print(factorial.list_factorial([1,2,3,4,5]))"
   ]
  },
  {
   "cell_type": "markdown",
   "metadata": {},
   "source": [
    "#### Excercise 4:\n",
    "Write a function that takes a number as input and returns True if the number is prime, and False otherwise. A prime number is a number greater than 1 that has no positive divisors other than 1 and itself."
   ]
  },
  {
   "cell_type": "code",
   "execution_count": 43,
   "metadata": {},
   "outputs": [
    {
     "name": "stdout",
     "output_type": "stream",
     "text": [
      "True\n",
      "False\n"
     ]
    }
   ],
   "source": [
    "def is_prime(n: int) -> bool:\n",
    "    if n <= 1:\n",
    "        return False\n",
    "    if n <=3:\n",
    "        return True\n",
    "    if n%2 == 0 or n%3 == 0:\n",
    "        return False\n",
    "    x=5\n",
    "    while x * x <=n:\n",
    "        if n%x == 0 or n%(x+2) == 0:\n",
    "            return False\n",
    "        i +=6\n",
    "    return True    \n",
    "\n",
    "print(is_prime(7))\n",
    "print(is_prime(8))"
   ]
  },
  {
   "cell_type": "markdown",
   "metadata": {},
   "source": [
    "#### Excercise 5:\n",
    "Create a Python module named \"math_utils.py\" that contains the following functions:\n",
    "- `add` - returns the sum of two numbers\n",
    "- `sub` - returns the difference between two numbers\n",
    "- `mul` - returns the product of two numbers\n",
    "- `div` - returns the division of two numbers"
   ]
  },
  {
   "cell_type": "code",
   "execution_count": 44,
   "metadata": {},
   "outputs": [
    {
     "name": "stdout",
     "output_type": "stream",
     "text": [
      "Addition: 15\n",
      "Subtraction: 5\n",
      "Multiplication: 50\n",
      "Division: 2.0\n"
     ]
    }
   ],
   "source": [
    "import math_utils\n",
    "\n",
    "a = 10\n",
    "b = 5\n",
    "\n",
    "print(f\"Addition: {math_utils.add(a, b)}\")        \n",
    "print(f\"Subtraction: {math_utils.sub(a, b)}\")  \n",
    "print(f\"Multiplication: {math_utils.mul(a, b)}\")  \n",
    "print(f\"Division: {math_utils.div(a, b)}\")      "
   ]
  },
  {
   "cell_type": "markdown",
   "metadata": {},
   "source": [
    "#### Excercise 6:\n",
    "Write a Python program that prompts the user to enter a number, and then prints the number of prime numbers that exist up to the number that was entered.\n",
    "\n",
    "The solution to this problem should be uploaded within a file prime_numbers.py"
   ]
  }
 ],
 "metadata": {
  "kernelspec": {
   "display_name": "Python 3",
   "language": "python",
   "name": "python3"
  },
  "language_info": {
   "codemirror_mode": {
    "name": "ipython",
    "version": 3
   },
   "file_extension": ".py",
   "mimetype": "text/x-python",
   "name": "python",
   "nbconvert_exporter": "python",
   "pygments_lexer": "ipython3",
   "version": "3.12.4"
  }
 },
 "nbformat": 4,
 "nbformat_minor": 2
}
